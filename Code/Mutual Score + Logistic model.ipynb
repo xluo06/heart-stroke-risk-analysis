{
 "cells": [
  {
   "cell_type": "code",
   "execution_count": 1,
   "id": "8a856280",
   "metadata": {},
   "outputs": [],
   "source": [
    "import pandas as pd\n",
    "from sklearn.model_selection import train_test_split\n",
    "from sklearn.linear_model import LogisticRegression\n",
    "import seaborn as sns \n",
    "import matplotlib.pyplot as plt \n",
    "from sklearn.metrics import confusion_matrix\n",
    "import statsmodels.api as sm\n",
    "from sklearn.tree import DecisionTreeClassifier\n",
    "from sklearn.preprocessing import MinMaxScaler\n",
    "from sklearn.metrics import mutual_info_score\n",
    "from sklearn.metrics.cluster import normalized_mutual_info_score\n",
    "#Normalized Mutual Information (NMI) is a normalization of the Mutual Information (MI)\n",
    "#score to scale the results between 0 (no mutual information) and 1 (perfect correlation)."
   ]
  },
  {
   "cell_type": "code",
   "execution_count": 2,
   "id": "e803cfb5",
   "metadata": {
    "scrolled": true
   },
   "outputs": [
    {
     "data": {
      "text/html": [
       "<div>\n",
       "<style scoped>\n",
       "    .dataframe tbody tr th:only-of-type {\n",
       "        vertical-align: middle;\n",
       "    }\n",
       "\n",
       "    .dataframe tbody tr th {\n",
       "        vertical-align: top;\n",
       "    }\n",
       "\n",
       "    .dataframe thead th {\n",
       "        text-align: right;\n",
       "    }\n",
       "</style>\n",
       "<table border=\"1\" class=\"dataframe\">\n",
       "  <thead>\n",
       "    <tr style=\"text-align: right;\">\n",
       "      <th></th>\n",
       "      <th>HeartDiseaseorAttack</th>\n",
       "      <th>HighBP</th>\n",
       "      <th>HighChol</th>\n",
       "      <th>CholCheck</th>\n",
       "      <th>BMI</th>\n",
       "      <th>Smoker</th>\n",
       "      <th>Stroke</th>\n",
       "      <th>Diabetes</th>\n",
       "      <th>PhysActivity</th>\n",
       "      <th>Fruits</th>\n",
       "      <th>...</th>\n",
       "      <th>AnyHealthcare</th>\n",
       "      <th>NoDocbcCost</th>\n",
       "      <th>GenHlth</th>\n",
       "      <th>MentHlth</th>\n",
       "      <th>PhysHlth</th>\n",
       "      <th>DiffWalk</th>\n",
       "      <th>Sex</th>\n",
       "      <th>Age</th>\n",
       "      <th>Education</th>\n",
       "      <th>Income</th>\n",
       "    </tr>\n",
       "  </thead>\n",
       "  <tbody>\n",
       "    <tr>\n",
       "      <th>0</th>\n",
       "      <td>0.0</td>\n",
       "      <td>1.0</td>\n",
       "      <td>1.0</td>\n",
       "      <td>1.0</td>\n",
       "      <td>40.0</td>\n",
       "      <td>1.0</td>\n",
       "      <td>0.0</td>\n",
       "      <td>0.0</td>\n",
       "      <td>0.0</td>\n",
       "      <td>0.0</td>\n",
       "      <td>...</td>\n",
       "      <td>1.0</td>\n",
       "      <td>0.0</td>\n",
       "      <td>5.0</td>\n",
       "      <td>18.0</td>\n",
       "      <td>15.0</td>\n",
       "      <td>1.0</td>\n",
       "      <td>0.0</td>\n",
       "      <td>9.0</td>\n",
       "      <td>4.0</td>\n",
       "      <td>3.0</td>\n",
       "    </tr>\n",
       "    <tr>\n",
       "      <th>1</th>\n",
       "      <td>0.0</td>\n",
       "      <td>0.0</td>\n",
       "      <td>0.0</td>\n",
       "      <td>0.0</td>\n",
       "      <td>25.0</td>\n",
       "      <td>1.0</td>\n",
       "      <td>0.0</td>\n",
       "      <td>0.0</td>\n",
       "      <td>1.0</td>\n",
       "      <td>0.0</td>\n",
       "      <td>...</td>\n",
       "      <td>0.0</td>\n",
       "      <td>1.0</td>\n",
       "      <td>3.0</td>\n",
       "      <td>0.0</td>\n",
       "      <td>0.0</td>\n",
       "      <td>0.0</td>\n",
       "      <td>0.0</td>\n",
       "      <td>7.0</td>\n",
       "      <td>6.0</td>\n",
       "      <td>1.0</td>\n",
       "    </tr>\n",
       "    <tr>\n",
       "      <th>2</th>\n",
       "      <td>0.0</td>\n",
       "      <td>1.0</td>\n",
       "      <td>1.0</td>\n",
       "      <td>1.0</td>\n",
       "      <td>28.0</td>\n",
       "      <td>0.0</td>\n",
       "      <td>0.0</td>\n",
       "      <td>0.0</td>\n",
       "      <td>0.0</td>\n",
       "      <td>1.0</td>\n",
       "      <td>...</td>\n",
       "      <td>1.0</td>\n",
       "      <td>1.0</td>\n",
       "      <td>5.0</td>\n",
       "      <td>30.0</td>\n",
       "      <td>30.0</td>\n",
       "      <td>1.0</td>\n",
       "      <td>0.0</td>\n",
       "      <td>9.0</td>\n",
       "      <td>4.0</td>\n",
       "      <td>8.0</td>\n",
       "    </tr>\n",
       "    <tr>\n",
       "      <th>3</th>\n",
       "      <td>0.0</td>\n",
       "      <td>1.0</td>\n",
       "      <td>0.0</td>\n",
       "      <td>1.0</td>\n",
       "      <td>27.0</td>\n",
       "      <td>0.0</td>\n",
       "      <td>0.0</td>\n",
       "      <td>0.0</td>\n",
       "      <td>1.0</td>\n",
       "      <td>1.0</td>\n",
       "      <td>...</td>\n",
       "      <td>1.0</td>\n",
       "      <td>0.0</td>\n",
       "      <td>2.0</td>\n",
       "      <td>0.0</td>\n",
       "      <td>0.0</td>\n",
       "      <td>0.0</td>\n",
       "      <td>0.0</td>\n",
       "      <td>11.0</td>\n",
       "      <td>3.0</td>\n",
       "      <td>6.0</td>\n",
       "    </tr>\n",
       "    <tr>\n",
       "      <th>4</th>\n",
       "      <td>0.0</td>\n",
       "      <td>1.0</td>\n",
       "      <td>1.0</td>\n",
       "      <td>1.0</td>\n",
       "      <td>24.0</td>\n",
       "      <td>0.0</td>\n",
       "      <td>0.0</td>\n",
       "      <td>0.0</td>\n",
       "      <td>1.0</td>\n",
       "      <td>1.0</td>\n",
       "      <td>...</td>\n",
       "      <td>1.0</td>\n",
       "      <td>0.0</td>\n",
       "      <td>2.0</td>\n",
       "      <td>3.0</td>\n",
       "      <td>0.0</td>\n",
       "      <td>0.0</td>\n",
       "      <td>0.0</td>\n",
       "      <td>11.0</td>\n",
       "      <td>5.0</td>\n",
       "      <td>4.0</td>\n",
       "    </tr>\n",
       "  </tbody>\n",
       "</table>\n",
       "<p>5 rows × 22 columns</p>\n",
       "</div>"
      ],
      "text/plain": [
       "   HeartDiseaseorAttack  HighBP  HighChol  CholCheck   BMI  Smoker  Stroke  \\\n",
       "0                   0.0     1.0       1.0        1.0  40.0     1.0     0.0   \n",
       "1                   0.0     0.0       0.0        0.0  25.0     1.0     0.0   \n",
       "2                   0.0     1.0       1.0        1.0  28.0     0.0     0.0   \n",
       "3                   0.0     1.0       0.0        1.0  27.0     0.0     0.0   \n",
       "4                   0.0     1.0       1.0        1.0  24.0     0.0     0.0   \n",
       "\n",
       "   Diabetes  PhysActivity  Fruits  ...  AnyHealthcare  NoDocbcCost  GenHlth  \\\n",
       "0       0.0           0.0     0.0  ...            1.0          0.0      5.0   \n",
       "1       0.0           1.0     0.0  ...            0.0          1.0      3.0   \n",
       "2       0.0           0.0     1.0  ...            1.0          1.0      5.0   \n",
       "3       0.0           1.0     1.0  ...            1.0          0.0      2.0   \n",
       "4       0.0           1.0     1.0  ...            1.0          0.0      2.0   \n",
       "\n",
       "   MentHlth  PhysHlth  DiffWalk  Sex   Age  Education  Income  \n",
       "0      18.0      15.0       1.0  0.0   9.0        4.0     3.0  \n",
       "1       0.0       0.0       0.0  0.0   7.0        6.0     1.0  \n",
       "2      30.0      30.0       1.0  0.0   9.0        4.0     8.0  \n",
       "3       0.0       0.0       0.0  0.0  11.0        3.0     6.0  \n",
       "4       3.0       0.0       0.0  0.0  11.0        5.0     4.0  \n",
       "\n",
       "[5 rows x 22 columns]"
      ]
     },
     "execution_count": 2,
     "metadata": {},
     "output_type": "execute_result"
    }
   ],
   "source": [
    "df = pd.read_csv('heart_disease.csv')\n",
    "df.head()"
   ]
  },
  {
   "cell_type": "code",
   "execution_count": 3,
   "id": "bf209a4f",
   "metadata": {},
   "outputs": [
    {
     "data": {
      "text/plain": [
       "0.0    229787\n",
       "1.0     23893\n",
       "Name: HeartDiseaseorAttack, dtype: int64"
      ]
     },
     "execution_count": 3,
     "metadata": {},
     "output_type": "execute_result"
    }
   ],
   "source": [
    "# count the number of 0 and 1 values in the 'column_name' column\n",
    "counts = df['HeartDiseaseorAttack'].value_counts()\n",
    "counts"
   ]
  },
  {
   "cell_type": "code",
   "execution_count": 4,
   "id": "6f9daf20",
   "metadata": {
    "scrolled": false
   },
   "outputs": [
    {
     "name": "stdout",
     "output_type": "stream",
     "text": [
      "Response Entropy:  0.3121162513951302\n",
      "AnyHealthcare  Conditional Entropy:  0.0001901782357081952\n",
      "Fruits  Conditional Entropy:  0.00019396888263825685\n",
      "NoDocbcCost  Conditional Entropy:  0.00044480816857509625\n",
      "HvyAlcoholConsump  Conditional Entropy:  0.0004742529069711558\n",
      "Veggies  Conditional Entropy:  0.0007280119892389691\n",
      "CholCheck  Conditional Entropy:  0.0012978202661435073\n",
      "MentHlth  Conditional Entropy:  0.002298306034762454\n",
      "BMI  Conditional Entropy:  0.0025121611441536454\n",
      "PhysActivity  Conditional Entropy:  0.0035234474524507287\n",
      "Sex  Conditional Entropy:  0.0036754831004163907\n",
      "Education  Conditional Entropy:  0.004835050658821635\n",
      "Smoker  Conditional Entropy:  0.006514901035762494\n",
      "Income  Conditional Entropy:  0.010152193778030682\n",
      "Stroke  Conditional Entropy:  0.013022112343352474\n",
      "Diabetes  Conditional Entropy:  0.013049920231963882\n",
      "PhysHlth  Conditional Entropy:  0.014374903508354232\n",
      "HighChol  Conditional Entropy:  0.016285095509136385\n",
      "DiffWalk  Conditional Entropy:  0.01812471814600672\n",
      "HighBP  Conditional Entropy:  0.02213673039246017\n",
      "Age  Conditional Entropy:  0.028452492225576012\n",
      "GenHlth  Conditional Entropy:  0.032145869179829714\n"
     ]
    }
   ],
   "source": [
    "# Calculate the entropy of the response variable\n",
    "response_entropy = mutual_info_score(df['HeartDiseaseorAttack'], df['HeartDiseaseorAttack'])\n",
    "\n",
    "# Calculate the conditional entropy of each of the other columns given the response variable\n",
    "conditional_entropy = {}\n",
    "for col in df.columns:\n",
    "    if col != 'HeartDiseaseorAttack':\n",
    "        conditional_entropy[col] = mutual_info_score(df['HeartDiseaseorAttack'], df[col])\n",
    "    \n",
    "# Sort the conditional entropy values from lowest to highest\n",
    "sorted_conditional_entropy = sorted(conditional_entropy.items(), key=lambda x: x[1])\n",
    "\n",
    "# Print the entropy and conditional entropy values in sorted order\n",
    "print(\"Response Entropy: \", response_entropy)\n",
    "for col, entropy in sorted_conditional_entropy:\n",
    "    print(col, \" Conditional Entropy: \", entropy)"
   ]
  },
  {
   "cell_type": "code",
   "execution_count": 5,
   "id": "d4020c85",
   "metadata": {},
   "outputs": [
    {
     "name": "stdout",
     "output_type": "stream",
     "text": [
      "Fruits  normalized Conditional Entropy:  0.0004004444312023553\n",
      "AnyHealthcare  normalized Conditional Entropy:  0.0007494402925341766\n",
      "BMI  normalized Conditional Entropy:  0.001455497500278799\n",
      "NoDocbcCost  normalized Conditional Entropy:  0.0014802997247825315\n",
      "HvyAlcoholConsump  normalized Conditional Entropy:  0.0017947529320284856\n",
      "Veggies  normalized Conditional Entropy:  0.0018285469210745572\n",
      "MentHlth  normalized Conditional Entropy:  0.0027226764893716355\n",
      "CholCheck  normalized Conditional Entropy:  0.005505283356770339\n",
      "Education  normalized Conditional Entropy:  0.006157131455408433\n",
      "Sex  normalized Conditional Entropy:  0.0073647505768675995\n",
      "PhysActivity  normalized Conditional Entropy:  0.00812652325353113\n",
      "Income  normalized Conditional Entropy:  0.009502390642881641\n",
      "Smoker  normalized Conditional Entropy:  0.013045589514661698\n",
      "PhysHlth  normalized Conditional Entropy:  0.015252458114647838\n",
      "Age  normalized Conditional Entropy:  0.020539920042180245\n",
      "Diabetes  normalized Conditional Entropy:  0.03245160471102766\n",
      "HighChol  normalized Conditional Entropy:  0.03277656684645334\n",
      "GenHlth  normalized Conditional Entropy:  0.03668822047616248\n",
      "HighBP  normalized Conditional Entropy:  0.04448934135251875\n",
      "DiffWalk  normalized Conditional Entropy:  0.047374060651291\n",
      "Stroke  normalized Conditional Entropy:  0.054048215808367384\n"
     ]
    }
   ],
   "source": [
    "\n",
    "# Calculate the conditional entropy of each of the other columns given the response variable\n",
    "nor_conditional_entropy = {}\n",
    "for col in df.columns:\n",
    "    if col != 'HeartDiseaseorAttack':\n",
    "        nor_conditional_entropy[col] = normalized_mutual_info_score(df['HeartDiseaseorAttack'], df[col])\n",
    "\n",
    "# Sort the conditional entropy values from lowest to highest\n",
    "sorted_nor_conditional_entropy = sorted(nor_conditional_entropy.items(), key=lambda x: x[1])\n",
    "\n",
    "# Print the entropy and conditional entropy values in sorted order\n",
    "for col, entropy in sorted_nor_conditional_entropy:\n",
    "    print(col, \" normalized Conditional Entropy: \", entropy)"
   ]
  },
  {
   "cell_type": "code",
   "execution_count": 6,
   "id": "1e70e795",
   "metadata": {},
   "outputs": [
    {
     "data": {
      "image/png": "[encoded data removed]",
      "text/plain": [
       "<Figure size 640x480 with 1 Axes>"
      ]
     },
     "metadata": {},
     "output_type": "display_data"
    }
   ],
   "source": [
    "# Create a bar plot of the conditional entropy values in sorted order\n",
    "cols = [col for col, entropy in sorted_nor_conditional_entropy]\n",
    "entropies = [entropy for col, entropy in sorted_nor_conditional_entropy]\n",
    "plt.barh(range(len(entropies)), entropies)\n",
    "plt.yticks(range(len(cols)), cols)\n",
    "plt.xlabel('Conditional Entropy')\n",
    "plt.ylabel('Columns')\n",
    "plt.title('Normal Mutual Info of Columns Given Heart Attack')\n",
    "plt.show()"
   ]
  },
  {
   "cell_type": "code",
   "execution_count": 7,
   "id": "3aa12015",
   "metadata": {},
   "outputs": [],
   "source": [
    "# Create a scaler object\n",
    "scaler = MinMaxScaler()\n",
    "\n",
    "# Fit the scaler to the data and transform the data\n",
    "data_scaled = scaler.fit_transform(df)\n",
    "\n",
    "# Convert the scaled data back into a DataFrame\n",
    "scaled_df = pd.DataFrame(data_scaled, columns=df.columns)"
   ]
  },
  {
   "cell_type": "code",
   "execution_count": 8,
   "id": "8492c3f2",
   "metadata": {},
   "outputs": [
    {
     "name": "stderr",
     "output_type": "stream",
     "text": [
      "C:\\ProgramData\\Anaconda3\\lib\\site-packages\\sklearn\\metrics\\cluster\\_supervised.py:64: UserWarning: Clustering metrics expects discrete values but received binary values for label, and continuous values for target\n",
      "  warnings.warn(msg, UserWarning)\n",
      "C:\\ProgramData\\Anaconda3\\lib\\site-packages\\sklearn\\metrics\\cluster\\_supervised.py:64: UserWarning: Clustering metrics expects discrete values but received binary values for label, and continuous values for target\n",
      "  warnings.warn(msg, UserWarning)\n",
      "C:\\ProgramData\\Anaconda3\\lib\\site-packages\\sklearn\\metrics\\cluster\\_supervised.py:64: UserWarning: Clustering metrics expects discrete values but received binary values for label, and continuous values for target\n",
      "  warnings.warn(msg, UserWarning)\n",
      "C:\\ProgramData\\Anaconda3\\lib\\site-packages\\sklearn\\metrics\\cluster\\_supervised.py:64: UserWarning: Clustering metrics expects discrete values but received binary values for label, and continuous values for target\n",
      "  warnings.warn(msg, UserWarning)\n",
      "C:\\ProgramData\\Anaconda3\\lib\\site-packages\\sklearn\\metrics\\cluster\\_supervised.py:64: UserWarning: Clustering metrics expects discrete values but received binary values for label, and continuous values for target\n",
      "  warnings.warn(msg, UserWarning)\n",
      "C:\\ProgramData\\Anaconda3\\lib\\site-packages\\sklearn\\metrics\\cluster\\_supervised.py:64: UserWarning: Clustering metrics expects discrete values but received binary values for label, and continuous values for target\n",
      "  warnings.warn(msg, UserWarning)\n"
     ]
    },
    {
     "name": "stdout",
     "output_type": "stream",
     "text": [
      "AnyHealthcare  Conditional Entropy:  0.0001901782357081952\n",
      "Fruits  Conditional Entropy:  0.00019396888263825685\n",
      "NoDocbcCost  Conditional Entropy:  0.00044480816857509625\n",
      "HvyAlcoholConsump  Conditional Entropy:  0.0004742529069711558\n",
      "Veggies  Conditional Entropy:  0.0007280119892389691\n",
      "CholCheck  Conditional Entropy:  0.0012978202661435073\n",
      "MentHlth  Conditional Entropy:  0.002298306034762454\n",
      "BMI  Conditional Entropy:  0.0025121611441536454\n",
      "PhysActivity  Conditional Entropy:  0.0035234474524507287\n",
      "Sex  Conditional Entropy:  0.0036754831004163907\n",
      "Education  Conditional Entropy:  0.004835050658821635\n",
      "Smoker  Conditional Entropy:  0.006514901035762494\n",
      "Income  Conditional Entropy:  0.010152193778030682\n",
      "Stroke  Conditional Entropy:  0.013022112343352474\n",
      "Diabetes  Conditional Entropy:  0.013049920231963882\n",
      "PhysHlth  Conditional Entropy:  0.014374903508354232\n",
      "HighChol  Conditional Entropy:  0.016285095509136385\n",
      "DiffWalk  Conditional Entropy:  0.01812471814600672\n",
      "HighBP  Conditional Entropy:  0.02213673039246017\n",
      "Age  Conditional Entropy:  0.028452492225576012\n",
      "GenHlth  Conditional Entropy:  0.032145869179829714\n"
     ]
    },
    {
     "name": "stderr",
     "output_type": "stream",
     "text": [
      "C:\\ProgramData\\Anaconda3\\lib\\site-packages\\sklearn\\metrics\\cluster\\_supervised.py:64: UserWarning: Clustering metrics expects discrete values but received binary values for label, and continuous values for target\n",
      "  warnings.warn(msg, UserWarning)\n",
      "C:\\ProgramData\\Anaconda3\\lib\\site-packages\\sklearn\\metrics\\cluster\\_supervised.py:64: UserWarning: Clustering metrics expects discrete values but received binary values for label, and continuous values for target\n",
      "  warnings.warn(msg, UserWarning)\n"
     ]
    }
   ],
   "source": [
    "#scaled entropy\n",
    "# Calculate the conditional entropy of each of the other columns given the response variable\n",
    "conditional_entropy_scaled = {}\n",
    "for col in scaled_df.columns:\n",
    "    if col != 'HeartDiseaseorAttack':\n",
    "        conditional_entropy_scaled[col] = mutual_info_score(scaled_df['HeartDiseaseorAttack'], scaled_df[col])\n",
    "        \n",
    "# Sort the conditional entropy values from lowest to highest\n",
    "sorted_conditional_entropy_scaled = sorted(conditional_entropy_scaled.items(), key=lambda x: x[1])\n",
    "\n",
    "# Print the entropy and conditional entropy values in sorted order\n",
    "for col, entropy in sorted_conditional_entropy_scaled:\n",
    "    print(col, \" Conditional Entropy: \", entropy)"
   ]
  },
  {
   "cell_type": "code",
   "execution_count": 9,
   "id": "be8d383f",
   "metadata": {
    "scrolled": false
   },
   "outputs": [],
   "source": [
    "# split the data into features (X) and target (y)\n",
    "#X = df.drop('HeartDiseaseorAttack', axis=1)\n",
    "y = df['HeartDiseaseorAttack']\n",
    "X = df[[\"Stroke\",\"DiffWalk\",\"HighBP\",\"GenHlth\"]]\n",
    "# split the data into training and testing sets\n",
    "X_train, X_test, y_train, y_test = train_test_split(X, y, test_size=0.2, random_state=42)\n",
    "\n",
    "\n",
    "\n",
    "# Convert the scaled data back into a DataFrame\n",
    "scaled_df = pd.DataFrame(data_scaled, columns=df.columns)\n",
    "\n",
    "# split the data into features (X) and target (y)\n",
    "X_scaled = scaled_df.drop('HeartDiseaseorAttack', axis=1)\n",
    "y_scaled = scaled_df['HeartDiseaseorAttack']\n",
    "\n",
    "# split the data into training and testing sets\n",
    "X_train_scaled, X_test_scaled, y_train_scaled, y_test_scaled = train_test_split(X_scaled, y_scaled, test_size=0.3, random_state=42)"
   ]
  },
  {
   "cell_type": "code",
   "execution_count": 10,
   "id": "ef15e497",
   "metadata": {
    "scrolled": true
   },
   "outputs": [
    {
     "name": "stderr",
     "output_type": "stream",
     "text": [
      "C:\\ProgramData\\Anaconda3\\lib\\site-packages\\statsmodels\\base\\model.py:127: ValueWarning: unknown kwargs ['class_weight']\n",
      "  warnings.warn(msg, ValueWarning)\n"
     ]
    },
    {
     "name": "stdout",
     "output_type": "stream",
     "text": [
      "Optimization terminated successfully.\n",
      "         Current function value: 0.262821\n",
      "         Iterations 7\n"
     ]
    },
    {
     "name": "stderr",
     "output_type": "stream",
     "text": [
      "C:\\ProgramData\\Anaconda3\\lib\\site-packages\\statsmodels\\base\\model.py:127: ValueWarning: unknown kwargs ['class_weight']\n",
      "  warnings.warn(msg, ValueWarning)\n"
     ]
    },
    {
     "name": "stdout",
     "output_type": "stream",
     "text": [
      "                            Logit Regression Results                            \n",
      "================================================================================\n",
      "Dep. Variable:     HeartDiseaseorAttack   No. Observations:               253680\n",
      "Model:                            Logit   Df Residuals:                   253675\n",
      "Method:                             MLE   Df Model:                            4\n",
      "Date:                  Fri, 21 Apr 2023   Pseudo R-squ.:                  0.1579\n",
      "Time:                          13:23:41   Log-Likelihood:                -66672.\n",
      "converged:                         True   LL-Null:                       -79178.\n",
      "Covariance Type:              nonrobust   LLR p-value:                     0.000\n",
      "==============================================================================\n",
      "                 coef    std err          z      P>|z|      [0.025      0.975]\n",
      "------------------------------------------------------------------------------\n",
      "const         -4.6587      0.025   -188.425      0.000      -4.707      -4.610\n",
      "Stroke         1.1983      0.024     50.762      0.000       1.152       1.245\n",
      "DiffWalk       0.4394      0.017     25.139      0.000       0.405       0.474\n",
      "HighBP         1.0599      0.016     64.673      0.000       1.028       1.092\n",
      "GenHlth        0.5459      0.008     70.244      0.000       0.531       0.561\n",
      "==============================================================================\n"
     ]
    }
   ],
   "source": [
    "# adjust the class weights\n",
    "class_weights = {0: 0.25, 1: 0.75}\n",
    "\n",
    "# fit a logistic regression model with the adjusted class weights using statsmodels\n",
    "nX = sm.add_constant(X)\n",
    "model = sm.Logit(y, nX, class_weight=class_weights)\n",
    "result = model.fit()\n",
    "\n",
    "# print the coefficient estimates and p-values\n",
    "print(result.summary())"
   ]
  },
  {
   "cell_type": "code",
   "execution_count": 11,
   "id": "889e56ff",
   "metadata": {},
   "outputs": [
    {
     "name": "stdout",
     "output_type": "stream",
     "text": [
      "0.8523336486912646\n"
     ]
    }
   ],
   "source": [
    "# create a logistic regression model\n",
    "model = LogisticRegression(class_weight = {0:19, 1:81}, max_iter = 1000)\n",
    "\n",
    "# fit the model to the training data\n",
    "model.fit(X_train, y_train)\n",
    "\n",
    "# evaluate the model on the testing data\n",
    "accuracy = model.score(X_test, y_test)\n",
    "\n",
    "# display the accuracy\n",
    "print(accuracy)"
   ]
  },
  {
   "cell_type": "code",
   "execution_count": 12,
   "id": "83fcacd4",
   "metadata": {},
   "outputs": [],
   "source": [
    "y_pred = model.predict(X_test) "
   ]
  },
  {
   "cell_type": "code",
   "execution_count": 13,
   "id": "dec8929e",
   "metadata": {},
   "outputs": [
    {
     "data": {
      "image/png": "[encoded data removed]",
      "text/plain": [
       "<Figure size 1200x800 with 2 Axes>"
      ]
     },
     "metadata": {},
     "output_type": "display_data"
    }
   ],
   "source": [
    "logreg_conf_matrix = confusion_matrix(y_test, y_pred) \n",
    "plt.figure(figsize = (12,8)) \n",
    "sns.set(font_scale=1.4)\n",
    "ax = sns.heatmap(logreg_conf_matrix,cmap='Blues',annot=True, fmt='d')"
   ]
  },
  {
   "cell_type": "code",
   "execution_count": null,
   "id": "7135787e",
   "metadata": {},
   "outputs": [],
   "source": []
  }
 ],
 "metadata": {
  "kernelspec": {
   "display_name": "Python 3 (ipykernel)",
   "language": "python",
   "name": "python3"
  },
  "language_info": {
   "codemirror_mode": {
    "name": "ipython",
    "version": 3
   },
   "file_extension": ".py",
   "mimetype": "text/x-python",
   "name": "python",
   "nbconvert_exporter": "python",
   "pygments_lexer": "ipython3",
   "version": "3.9.13"
  }
 },
 "nbformat": 4,
 "nbformat_minor": 5
}
